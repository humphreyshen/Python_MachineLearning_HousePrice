{
 "cells": [
  {
   "cell_type": "code",
   "execution_count": 1,
   "metadata": {},
   "outputs": [],
   "source": [
    "import numpy as np\n",
    "import pandas as pd\n",
    "import matplotlib.pyplot as plt\n",
    "import seaborn as sns\n",
    "from sklearn import linear_model\n",
    "from sklearn.preprocessing import PolynomialFeatures\n",
    "from sklearn.pipeline import make_pipeline\n",
    "from sklearn.datasets import make_regression\n",
    "from sklearn.model_selection import train_test_split\n",
    "from sklearn import preprocessing\n",
    "from sklearn.linear_model import LinearRegression\n",
    "from sklearn.metrics import mean_squared_error, mean_absolute_error, r2_score\n",
    "from sklearn.model_selection import train_test_split\n",
    "from sklearn.linear_model import SGDRegressor\n",
    "from sklearn import metrics"
   ]
  },
  {
   "cell_type": "markdown",
   "metadata": {},
   "source": [
    "### 讀取資料"
   ]
  },
  {
   "cell_type": "code",
   "execution_count": 2,
   "metadata": {},
   "outputs": [
    {
     "data": {
      "text/html": [
       "<div>\n",
       "<style scoped>\n",
       "    .dataframe tbody tr th:only-of-type {\n",
       "        vertical-align: middle;\n",
       "    }\n",
       "\n",
       "    .dataframe tbody tr th {\n",
       "        vertical-align: top;\n",
       "    }\n",
       "\n",
       "    .dataframe thead th {\n",
       "        text-align: right;\n",
       "    }\n",
       "</style>\n",
       "<table border=\"1\" class=\"dataframe\">\n",
       "  <thead>\n",
       "    <tr style=\"text-align: right;\">\n",
       "      <th></th>\n",
       "      <th>num</th>\n",
       "      <th>transaction_date</th>\n",
       "      <th>address</th>\n",
       "      <th>floor</th>\n",
       "      <th>total_floor</th>\n",
       "      <th>total_price</th>\n",
       "      <th>unit_price_ping</th>\n",
       "      <th>total_area_ping</th>\n",
       "      <th>house_area_ping</th>\n",
       "      <th>land_area_ping</th>\n",
       "      <th>total_parking_price</th>\n",
       "      <th>parking_amount</th>\n",
       "      <th>per_parking_price</th>\n",
       "    </tr>\n",
       "  </thead>\n",
       "  <tbody>\n",
       "    <tr>\n",
       "      <th>0</th>\n",
       "      <td>1</td>\n",
       "      <td>111/01</td>\n",
       "      <td>B3</td>\n",
       "      <td>23</td>\n",
       "      <td>32</td>\n",
       "      <td>4688</td>\n",
       "      <td>52.44</td>\n",
       "      <td>100.86</td>\n",
       "      <td>79.86</td>\n",
       "      <td>9.02</td>\n",
       "      <td>500</td>\n",
       "      <td>2</td>\n",
       "      <td>250.0</td>\n",
       "    </tr>\n",
       "    <tr>\n",
       "      <th>1</th>\n",
       "      <td>2</td>\n",
       "      <td>110/12</td>\n",
       "      <td>A2</td>\n",
       "      <td>14</td>\n",
       "      <td>35</td>\n",
       "      <td>5630</td>\n",
       "      <td>55.38</td>\n",
       "      <td>116.71</td>\n",
       "      <td>95.70</td>\n",
       "      <td>10.56</td>\n",
       "      <td>330</td>\n",
       "      <td>2</td>\n",
       "      <td>165.0</td>\n",
       "    </tr>\n",
       "    <tr>\n",
       "      <th>2</th>\n",
       "      <td>3</td>\n",
       "      <td>110/12</td>\n",
       "      <td>A1</td>\n",
       "      <td>13</td>\n",
       "      <td>35</td>\n",
       "      <td>5058</td>\n",
       "      <td>52.40</td>\n",
       "      <td>110.33</td>\n",
       "      <td>90.33</td>\n",
       "      <td>10.12</td>\n",
       "      <td>325</td>\n",
       "      <td>2</td>\n",
       "      <td>162.5</td>\n",
       "    </tr>\n",
       "    <tr>\n",
       "      <th>3</th>\n",
       "      <td>4</td>\n",
       "      <td>110/12</td>\n",
       "      <td>B1</td>\n",
       "      <td>22</td>\n",
       "      <td>32</td>\n",
       "      <td>5656</td>\n",
       "      <td>53.83</td>\n",
       "      <td>124.60</td>\n",
       "      <td>93.10</td>\n",
       "      <td>10.56</td>\n",
       "      <td>645</td>\n",
       "      <td>3</td>\n",
       "      <td>215.0</td>\n",
       "    </tr>\n",
       "    <tr>\n",
       "      <th>4</th>\n",
       "      <td>5</td>\n",
       "      <td>110/12</td>\n",
       "      <td>A2</td>\n",
       "      <td>23</td>\n",
       "      <td>35</td>\n",
       "      <td>6528</td>\n",
       "      <td>62.95</td>\n",
       "      <td>116.60</td>\n",
       "      <td>95.60</td>\n",
       "      <td>10.56</td>\n",
       "      <td>510</td>\n",
       "      <td>2</td>\n",
       "      <td>255.0</td>\n",
       "    </tr>\n",
       "    <tr>\n",
       "      <th>...</th>\n",
       "      <td>...</td>\n",
       "      <td>...</td>\n",
       "      <td>...</td>\n",
       "      <td>...</td>\n",
       "      <td>...</td>\n",
       "      <td>...</td>\n",
       "      <td>...</td>\n",
       "      <td>...</td>\n",
       "      <td>...</td>\n",
       "      <td>...</td>\n",
       "      <td>...</td>\n",
       "      <td>...</td>\n",
       "      <td>...</td>\n",
       "    </tr>\n",
       "    <tr>\n",
       "      <th>138</th>\n",
       "      <td>139</td>\n",
       "      <td>108/07</td>\n",
       "      <td>B2</td>\n",
       "      <td>12</td>\n",
       "      <td>32</td>\n",
       "      <td>5090</td>\n",
       "      <td>50.57</td>\n",
       "      <td>113.74</td>\n",
       "      <td>92.74</td>\n",
       "      <td>10.34</td>\n",
       "      <td>400</td>\n",
       "      <td>2</td>\n",
       "      <td>200.0</td>\n",
       "    </tr>\n",
       "    <tr>\n",
       "      <th>139</th>\n",
       "      <td>140</td>\n",
       "      <td>108/07</td>\n",
       "      <td>A2</td>\n",
       "      <td>29</td>\n",
       "      <td>35</td>\n",
       "      <td>6728</td>\n",
       "      <td>62.43</td>\n",
       "      <td>127.10</td>\n",
       "      <td>95.60</td>\n",
       "      <td>10.78</td>\n",
       "      <td>760</td>\n",
       "      <td>3</td>\n",
       "      <td>253.3</td>\n",
       "    </tr>\n",
       "    <tr>\n",
       "      <th>140</th>\n",
       "      <td>141</td>\n",
       "      <td>108/07</td>\n",
       "      <td>A2</td>\n",
       "      <td>8</td>\n",
       "      <td>35</td>\n",
       "      <td>5689</td>\n",
       "      <td>53.07</td>\n",
       "      <td>127.20</td>\n",
       "      <td>95.70</td>\n",
       "      <td>10.78</td>\n",
       "      <td>610</td>\n",
       "      <td>3</td>\n",
       "      <td>203.3</td>\n",
       "    </tr>\n",
       "    <tr>\n",
       "      <th>141</th>\n",
       "      <td>142</td>\n",
       "      <td>108/07</td>\n",
       "      <td>A3</td>\n",
       "      <td>8</td>\n",
       "      <td>35</td>\n",
       "      <td>4265</td>\n",
       "      <td>47.95</td>\n",
       "      <td>102.86</td>\n",
       "      <td>81.86</td>\n",
       "      <td>9.24</td>\n",
       "      <td>340</td>\n",
       "      <td>2</td>\n",
       "      <td>170.0</td>\n",
       "    </tr>\n",
       "    <tr>\n",
       "      <th>142</th>\n",
       "      <td>143</td>\n",
       "      <td>108/07</td>\n",
       "      <td>A5</td>\n",
       "      <td>25</td>\n",
       "      <td>35</td>\n",
       "      <td>4530</td>\n",
       "      <td>53.01</td>\n",
       "      <td>98.53</td>\n",
       "      <td>77.53</td>\n",
       "      <td>8.80</td>\n",
       "      <td>420</td>\n",
       "      <td>2</td>\n",
       "      <td>210.0</td>\n",
       "    </tr>\n",
       "  </tbody>\n",
       "</table>\n",
       "<p>143 rows × 13 columns</p>\n",
       "</div>"
      ],
      "text/plain": [
       "     num transaction_date address  floor  total_floor  total_price  \\\n",
       "0      1           111/01      B3     23           32         4688   \n",
       "1      2           110/12      A2     14           35         5630   \n",
       "2      3           110/12      A1     13           35         5058   \n",
       "3      4           110/12      B1     22           32         5656   \n",
       "4      5           110/12      A2     23           35         6528   \n",
       "..   ...              ...     ...    ...          ...          ...   \n",
       "138  139           108/07      B2     12           32         5090   \n",
       "139  140           108/07      A2     29           35         6728   \n",
       "140  141           108/07      A2      8           35         5689   \n",
       "141  142           108/07      A3      8           35         4265   \n",
       "142  143           108/07      A5     25           35         4530   \n",
       "\n",
       "     unit_price_ping  total_area_ping  house_area_ping  land_area_ping  \\\n",
       "0              52.44           100.86            79.86            9.02   \n",
       "1              55.38           116.71            95.70           10.56   \n",
       "2              52.40           110.33            90.33           10.12   \n",
       "3              53.83           124.60            93.10           10.56   \n",
       "4              62.95           116.60            95.60           10.56   \n",
       "..               ...              ...              ...             ...   \n",
       "138            50.57           113.74            92.74           10.34   \n",
       "139            62.43           127.10            95.60           10.78   \n",
       "140            53.07           127.20            95.70           10.78   \n",
       "141            47.95           102.86            81.86            9.24   \n",
       "142            53.01            98.53            77.53            8.80   \n",
       "\n",
       "     total_parking_price  parking_amount  per_parking_price  \n",
       "0                    500               2              250.0  \n",
       "1                    330               2              165.0  \n",
       "2                    325               2              162.5  \n",
       "3                    645               3              215.0  \n",
       "4                    510               2              255.0  \n",
       "..                   ...             ...                ...  \n",
       "138                  400               2              200.0  \n",
       "139                  760               3              253.3  \n",
       "140                  610               3              203.3  \n",
       "141                  340               2              170.0  \n",
       "142                  420               2              210.0  \n",
       "\n",
       "[143 rows x 13 columns]"
      ]
     },
     "execution_count": 2,
     "metadata": {},
     "output_type": "execute_result"
    }
   ],
   "source": [
    "df=pd.read_csv('D:\\Coding_Project\\Python_MeachingLearning_HousePrice\\Data\\網路爬蟲_勤美之森實價登錄資訊.csv')\n",
    "df"
   ]
  },
  {
   "cell_type": "markdown",
   "metadata": {},
   "source": [
    "### 資料預處裡 (特徵篩選)"
   ]
  },
  {
   "cell_type": "code",
   "execution_count": 3,
   "metadata": {},
   "outputs": [],
   "source": [
    "df_clean=df.copy()"
   ]
  },
  {
   "cell_type": "code",
   "execution_count": 4,
   "metadata": {},
   "outputs": [
    {
     "data": {
      "text/html": [
       "<div>\n",
       "<style scoped>\n",
       "    .dataframe tbody tr th:only-of-type {\n",
       "        vertical-align: middle;\n",
       "    }\n",
       "\n",
       "    .dataframe tbody tr th {\n",
       "        vertical-align: top;\n",
       "    }\n",
       "\n",
       "    .dataframe thead th {\n",
       "        text-align: right;\n",
       "    }\n",
       "</style>\n",
       "<table border=\"1\" class=\"dataframe\">\n",
       "  <thead>\n",
       "    <tr style=\"text-align: right;\">\n",
       "      <th></th>\n",
       "      <th>address</th>\n",
       "      <th>floor</th>\n",
       "      <th>unit_price_ping</th>\n",
       "      <th>total_area_ping</th>\n",
       "    </tr>\n",
       "  </thead>\n",
       "  <tbody>\n",
       "    <tr>\n",
       "      <th>0</th>\n",
       "      <td>B3</td>\n",
       "      <td>23</td>\n",
       "      <td>52.44</td>\n",
       "      <td>100.86</td>\n",
       "    </tr>\n",
       "    <tr>\n",
       "      <th>1</th>\n",
       "      <td>A2</td>\n",
       "      <td>14</td>\n",
       "      <td>55.38</td>\n",
       "      <td>116.71</td>\n",
       "    </tr>\n",
       "    <tr>\n",
       "      <th>2</th>\n",
       "      <td>A1</td>\n",
       "      <td>13</td>\n",
       "      <td>52.40</td>\n",
       "      <td>110.33</td>\n",
       "    </tr>\n",
       "    <tr>\n",
       "      <th>3</th>\n",
       "      <td>B1</td>\n",
       "      <td>22</td>\n",
       "      <td>53.83</td>\n",
       "      <td>124.60</td>\n",
       "    </tr>\n",
       "    <tr>\n",
       "      <th>4</th>\n",
       "      <td>A2</td>\n",
       "      <td>23</td>\n",
       "      <td>62.95</td>\n",
       "      <td>116.60</td>\n",
       "    </tr>\n",
       "    <tr>\n",
       "      <th>...</th>\n",
       "      <td>...</td>\n",
       "      <td>...</td>\n",
       "      <td>...</td>\n",
       "      <td>...</td>\n",
       "    </tr>\n",
       "    <tr>\n",
       "      <th>138</th>\n",
       "      <td>B2</td>\n",
       "      <td>12</td>\n",
       "      <td>50.57</td>\n",
       "      <td>113.74</td>\n",
       "    </tr>\n",
       "    <tr>\n",
       "      <th>139</th>\n",
       "      <td>A2</td>\n",
       "      <td>29</td>\n",
       "      <td>62.43</td>\n",
       "      <td>127.10</td>\n",
       "    </tr>\n",
       "    <tr>\n",
       "      <th>140</th>\n",
       "      <td>A2</td>\n",
       "      <td>8</td>\n",
       "      <td>53.07</td>\n",
       "      <td>127.20</td>\n",
       "    </tr>\n",
       "    <tr>\n",
       "      <th>141</th>\n",
       "      <td>A3</td>\n",
       "      <td>8</td>\n",
       "      <td>47.95</td>\n",
       "      <td>102.86</td>\n",
       "    </tr>\n",
       "    <tr>\n",
       "      <th>142</th>\n",
       "      <td>A5</td>\n",
       "      <td>25</td>\n",
       "      <td>53.01</td>\n",
       "      <td>98.53</td>\n",
       "    </tr>\n",
       "  </tbody>\n",
       "</table>\n",
       "<p>143 rows × 4 columns</p>\n",
       "</div>"
      ],
      "text/plain": [
       "    address  floor  unit_price_ping  total_area_ping\n",
       "0        B3     23            52.44           100.86\n",
       "1        A2     14            55.38           116.71\n",
       "2        A1     13            52.40           110.33\n",
       "3        B1     22            53.83           124.60\n",
       "4        A2     23            62.95           116.60\n",
       "..      ...    ...              ...              ...\n",
       "138      B2     12            50.57           113.74\n",
       "139      A2     29            62.43           127.10\n",
       "140      A2      8            53.07           127.20\n",
       "141      A3      8            47.95           102.86\n",
       "142      A5     25            53.01            98.53\n",
       "\n",
       "[143 rows x 4 columns]"
      ]
     },
     "execution_count": 4,
     "metadata": {},
     "output_type": "execute_result"
    }
   ],
   "source": [
    "df_clean=df_clean.drop(['num'],axis=1).drop(['transaction_date'],axis=1).drop(['total_parking_price'],axis=1).drop(['parking_amount'],axis=1).drop(['per_parking_price'],axis=1).drop(['total_price'],axis=1).drop(['total_floor'],axis=1).drop(['house_area_ping'],axis=1).drop(['land_area_ping'],axis=1)\n",
    "df_clean"
   ]
  },
  {
   "cell_type": "code",
   "execution_count": 5,
   "metadata": {},
   "outputs": [
    {
     "data": {
      "text/plain": [
       "A2    30\n",
       "B3    23\n",
       "B2    19\n",
       "A5    19\n",
       "A3    18\n",
       "A1    17\n",
       "B1    17\n",
       "Name: address, dtype: int64"
      ]
     },
     "execution_count": 5,
     "metadata": {},
     "output_type": "execute_result"
    }
   ],
   "source": [
    "df_clean['address'].value_counts()"
   ]
  },
  {
   "cell_type": "code",
   "execution_count": 6,
   "metadata": {},
   "outputs": [],
   "source": [
    "d={'A1':8,'A2':7, 'A3':6, 'A4':5, 'A5':4, 'B1':3, 'B2':2, 'B3':1}"
   ]
  },
  {
   "cell_type": "code",
   "execution_count": 7,
   "metadata": {},
   "outputs": [
    {
     "data": {
      "text/html": [
       "<div>\n",
       "<style scoped>\n",
       "    .dataframe tbody tr th:only-of-type {\n",
       "        vertical-align: middle;\n",
       "    }\n",
       "\n",
       "    .dataframe tbody tr th {\n",
       "        vertical-align: top;\n",
       "    }\n",
       "\n",
       "    .dataframe thead th {\n",
       "        text-align: right;\n",
       "    }\n",
       "</style>\n",
       "<table border=\"1\" class=\"dataframe\">\n",
       "  <thead>\n",
       "    <tr style=\"text-align: right;\">\n",
       "      <th></th>\n",
       "      <th>address</th>\n",
       "      <th>floor</th>\n",
       "      <th>unit_price_ping</th>\n",
       "      <th>total_area_ping</th>\n",
       "    </tr>\n",
       "  </thead>\n",
       "  <tbody>\n",
       "    <tr>\n",
       "      <th>0</th>\n",
       "      <td>1</td>\n",
       "      <td>23</td>\n",
       "      <td>52.44</td>\n",
       "      <td>100.86</td>\n",
       "    </tr>\n",
       "    <tr>\n",
       "      <th>1</th>\n",
       "      <td>7</td>\n",
       "      <td>14</td>\n",
       "      <td>55.38</td>\n",
       "      <td>116.71</td>\n",
       "    </tr>\n",
       "    <tr>\n",
       "      <th>2</th>\n",
       "      <td>8</td>\n",
       "      <td>13</td>\n",
       "      <td>52.40</td>\n",
       "      <td>110.33</td>\n",
       "    </tr>\n",
       "    <tr>\n",
       "      <th>3</th>\n",
       "      <td>3</td>\n",
       "      <td>22</td>\n",
       "      <td>53.83</td>\n",
       "      <td>124.60</td>\n",
       "    </tr>\n",
       "    <tr>\n",
       "      <th>4</th>\n",
       "      <td>7</td>\n",
       "      <td>23</td>\n",
       "      <td>62.95</td>\n",
       "      <td>116.60</td>\n",
       "    </tr>\n",
       "    <tr>\n",
       "      <th>...</th>\n",
       "      <td>...</td>\n",
       "      <td>...</td>\n",
       "      <td>...</td>\n",
       "      <td>...</td>\n",
       "    </tr>\n",
       "    <tr>\n",
       "      <th>138</th>\n",
       "      <td>2</td>\n",
       "      <td>12</td>\n",
       "      <td>50.57</td>\n",
       "      <td>113.74</td>\n",
       "    </tr>\n",
       "    <tr>\n",
       "      <th>139</th>\n",
       "      <td>7</td>\n",
       "      <td>29</td>\n",
       "      <td>62.43</td>\n",
       "      <td>127.10</td>\n",
       "    </tr>\n",
       "    <tr>\n",
       "      <th>140</th>\n",
       "      <td>7</td>\n",
       "      <td>8</td>\n",
       "      <td>53.07</td>\n",
       "      <td>127.20</td>\n",
       "    </tr>\n",
       "    <tr>\n",
       "      <th>141</th>\n",
       "      <td>6</td>\n",
       "      <td>8</td>\n",
       "      <td>47.95</td>\n",
       "      <td>102.86</td>\n",
       "    </tr>\n",
       "    <tr>\n",
       "      <th>142</th>\n",
       "      <td>4</td>\n",
       "      <td>25</td>\n",
       "      <td>53.01</td>\n",
       "      <td>98.53</td>\n",
       "    </tr>\n",
       "  </tbody>\n",
       "</table>\n",
       "<p>143 rows × 4 columns</p>\n",
       "</div>"
      ],
      "text/plain": [
       "     address  floor  unit_price_ping  total_area_ping\n",
       "0          1     23            52.44           100.86\n",
       "1          7     14            55.38           116.71\n",
       "2          8     13            52.40           110.33\n",
       "3          3     22            53.83           124.60\n",
       "4          7     23            62.95           116.60\n",
       "..       ...    ...              ...              ...\n",
       "138        2     12            50.57           113.74\n",
       "139        7     29            62.43           127.10\n",
       "140        7      8            53.07           127.20\n",
       "141        6      8            47.95           102.86\n",
       "142        4     25            53.01            98.53\n",
       "\n",
       "[143 rows x 4 columns]"
      ]
     },
     "execution_count": 7,
     "metadata": {},
     "output_type": "execute_result"
    }
   ],
   "source": [
    "df_clean['address']=df_clean['address'].map(d)\n",
    "df_clean"
   ]
  },
  {
   "cell_type": "code",
   "execution_count": 8,
   "metadata": {},
   "outputs": [],
   "source": [
    "df_clean.insert(0, 'id', range(1, 1 + len(df_clean)))"
   ]
  },
  {
   "cell_type": "code",
   "execution_count": 9,
   "metadata": {},
   "outputs": [
    {
     "data": {
      "text/html": [
       "<div>\n",
       "<style scoped>\n",
       "    .dataframe tbody tr th:only-of-type {\n",
       "        vertical-align: middle;\n",
       "    }\n",
       "\n",
       "    .dataframe tbody tr th {\n",
       "        vertical-align: top;\n",
       "    }\n",
       "\n",
       "    .dataframe thead th {\n",
       "        text-align: right;\n",
       "    }\n",
       "</style>\n",
       "<table border=\"1\" class=\"dataframe\">\n",
       "  <thead>\n",
       "    <tr style=\"text-align: right;\">\n",
       "      <th></th>\n",
       "      <th>id</th>\n",
       "      <th>address</th>\n",
       "      <th>floor</th>\n",
       "      <th>unit_price_ping</th>\n",
       "      <th>total_area_ping</th>\n",
       "    </tr>\n",
       "  </thead>\n",
       "  <tbody>\n",
       "    <tr>\n",
       "      <th>0</th>\n",
       "      <td>1</td>\n",
       "      <td>1</td>\n",
       "      <td>23</td>\n",
       "      <td>52.44</td>\n",
       "      <td>100.86</td>\n",
       "    </tr>\n",
       "    <tr>\n",
       "      <th>1</th>\n",
       "      <td>2</td>\n",
       "      <td>7</td>\n",
       "      <td>14</td>\n",
       "      <td>55.38</td>\n",
       "      <td>116.71</td>\n",
       "    </tr>\n",
       "    <tr>\n",
       "      <th>2</th>\n",
       "      <td>3</td>\n",
       "      <td>8</td>\n",
       "      <td>13</td>\n",
       "      <td>52.40</td>\n",
       "      <td>110.33</td>\n",
       "    </tr>\n",
       "    <tr>\n",
       "      <th>3</th>\n",
       "      <td>4</td>\n",
       "      <td>3</td>\n",
       "      <td>22</td>\n",
       "      <td>53.83</td>\n",
       "      <td>124.60</td>\n",
       "    </tr>\n",
       "    <tr>\n",
       "      <th>4</th>\n",
       "      <td>5</td>\n",
       "      <td>7</td>\n",
       "      <td>23</td>\n",
       "      <td>62.95</td>\n",
       "      <td>116.60</td>\n",
       "    </tr>\n",
       "    <tr>\n",
       "      <th>...</th>\n",
       "      <td>...</td>\n",
       "      <td>...</td>\n",
       "      <td>...</td>\n",
       "      <td>...</td>\n",
       "      <td>...</td>\n",
       "    </tr>\n",
       "    <tr>\n",
       "      <th>138</th>\n",
       "      <td>139</td>\n",
       "      <td>2</td>\n",
       "      <td>12</td>\n",
       "      <td>50.57</td>\n",
       "      <td>113.74</td>\n",
       "    </tr>\n",
       "    <tr>\n",
       "      <th>139</th>\n",
       "      <td>140</td>\n",
       "      <td>7</td>\n",
       "      <td>29</td>\n",
       "      <td>62.43</td>\n",
       "      <td>127.10</td>\n",
       "    </tr>\n",
       "    <tr>\n",
       "      <th>140</th>\n",
       "      <td>141</td>\n",
       "      <td>7</td>\n",
       "      <td>8</td>\n",
       "      <td>53.07</td>\n",
       "      <td>127.20</td>\n",
       "    </tr>\n",
       "    <tr>\n",
       "      <th>141</th>\n",
       "      <td>142</td>\n",
       "      <td>6</td>\n",
       "      <td>8</td>\n",
       "      <td>47.95</td>\n",
       "      <td>102.86</td>\n",
       "    </tr>\n",
       "    <tr>\n",
       "      <th>142</th>\n",
       "      <td>143</td>\n",
       "      <td>4</td>\n",
       "      <td>25</td>\n",
       "      <td>53.01</td>\n",
       "      <td>98.53</td>\n",
       "    </tr>\n",
       "  </tbody>\n",
       "</table>\n",
       "<p>143 rows × 5 columns</p>\n",
       "</div>"
      ],
      "text/plain": [
       "      id  address  floor  unit_price_ping  total_area_ping\n",
       "0      1        1     23            52.44           100.86\n",
       "1      2        7     14            55.38           116.71\n",
       "2      3        8     13            52.40           110.33\n",
       "3      4        3     22            53.83           124.60\n",
       "4      5        7     23            62.95           116.60\n",
       "..   ...      ...    ...              ...              ...\n",
       "138  139        2     12            50.57           113.74\n",
       "139  140        7     29            62.43           127.10\n",
       "140  141        7      8            53.07           127.20\n",
       "141  142        6      8            47.95           102.86\n",
       "142  143        4     25            53.01            98.53\n",
       "\n",
       "[143 rows x 5 columns]"
      ]
     },
     "execution_count": 9,
     "metadata": {},
     "output_type": "execute_result"
    }
   ],
   "source": [
    "df_clean"
   ]
  },
  {
   "cell_type": "markdown",
   "metadata": {},
   "source": [
    "### 特徵提取"
   ]
  },
  {
   "cell_type": "code",
   "execution_count": 10,
   "metadata": {},
   "outputs": [
    {
     "name": "stderr",
     "output_type": "stream",
     "text": [
      "C:\\Users\\user\\AppData\\Local\\Temp/ipykernel_7732/2013388065.py:6: SettingWithCopyWarning: \n",
      "A value is trying to be set on a copy of a slice from a DataFrame\n",
      "\n",
      "See the caveats in the documentation: https://pandas.pydata.org/pandas-docs/stable/user_guide/indexing.html#returning-a-view-versus-a-copy\n",
      "  df_clean['over_hotel_floor'][i] = 1\n",
      "C:\\Users\\user\\AppData\\Local\\Temp/ipykernel_7732/2013388065.py:8: SettingWithCopyWarning: \n",
      "A value is trying to be set on a copy of a slice from a DataFrame\n",
      "\n",
      "See the caveats in the documentation: https://pandas.pydata.org/pandas-docs/stable/user_guide/indexing.html#returning-a-view-versus-a-copy\n",
      "  df_clean['over_hotel_floor'][i] = 0\n"
     ]
    }
   ],
   "source": [
    "over_hotel_floor=pd.DataFrame(columns=['over_hotel_floor'])\n",
    "df_clean=pd.concat([df_clean,over_hotel_floor])\n",
    "for i in df_clean.index:\n",
    "    value=df_clean['floor'][i]\n",
    "    if value >= 16:\n",
    "        df_clean['over_hotel_floor'][i] = 1\n",
    "    else:\n",
    "        df_clean['over_hotel_floor'][i] = 0"
   ]
  },
  {
   "cell_type": "code",
   "execution_count": 11,
   "metadata": {},
   "outputs": [
    {
     "data": {
      "text/html": [
       "<div>\n",
       "<style scoped>\n",
       "    .dataframe tbody tr th:only-of-type {\n",
       "        vertical-align: middle;\n",
       "    }\n",
       "\n",
       "    .dataframe tbody tr th {\n",
       "        vertical-align: top;\n",
       "    }\n",
       "\n",
       "    .dataframe thead th {\n",
       "        text-align: right;\n",
       "    }\n",
       "</style>\n",
       "<table border=\"1\" class=\"dataframe\">\n",
       "  <thead>\n",
       "    <tr style=\"text-align: right;\">\n",
       "      <th></th>\n",
       "      <th>id</th>\n",
       "      <th>address</th>\n",
       "      <th>floor</th>\n",
       "      <th>unit_price_ping</th>\n",
       "      <th>total_area_ping</th>\n",
       "      <th>over_hotel_floor</th>\n",
       "    </tr>\n",
       "  </thead>\n",
       "  <tbody>\n",
       "    <tr>\n",
       "      <th>0</th>\n",
       "      <td>1.0</td>\n",
       "      <td>1.0</td>\n",
       "      <td>23.0</td>\n",
       "      <td>52.44</td>\n",
       "      <td>100.86</td>\n",
       "      <td>1</td>\n",
       "    </tr>\n",
       "    <tr>\n",
       "      <th>1</th>\n",
       "      <td>2.0</td>\n",
       "      <td>7.0</td>\n",
       "      <td>14.0</td>\n",
       "      <td>55.38</td>\n",
       "      <td>116.71</td>\n",
       "      <td>0</td>\n",
       "    </tr>\n",
       "    <tr>\n",
       "      <th>2</th>\n",
       "      <td>3.0</td>\n",
       "      <td>8.0</td>\n",
       "      <td>13.0</td>\n",
       "      <td>52.40</td>\n",
       "      <td>110.33</td>\n",
       "      <td>0</td>\n",
       "    </tr>\n",
       "    <tr>\n",
       "      <th>3</th>\n",
       "      <td>4.0</td>\n",
       "      <td>3.0</td>\n",
       "      <td>22.0</td>\n",
       "      <td>53.83</td>\n",
       "      <td>124.60</td>\n",
       "      <td>1</td>\n",
       "    </tr>\n",
       "    <tr>\n",
       "      <th>4</th>\n",
       "      <td>5.0</td>\n",
       "      <td>7.0</td>\n",
       "      <td>23.0</td>\n",
       "      <td>62.95</td>\n",
       "      <td>116.60</td>\n",
       "      <td>1</td>\n",
       "    </tr>\n",
       "    <tr>\n",
       "      <th>...</th>\n",
       "      <td>...</td>\n",
       "      <td>...</td>\n",
       "      <td>...</td>\n",
       "      <td>...</td>\n",
       "      <td>...</td>\n",
       "      <td>...</td>\n",
       "    </tr>\n",
       "    <tr>\n",
       "      <th>138</th>\n",
       "      <td>139.0</td>\n",
       "      <td>2.0</td>\n",
       "      <td>12.0</td>\n",
       "      <td>50.57</td>\n",
       "      <td>113.74</td>\n",
       "      <td>0</td>\n",
       "    </tr>\n",
       "    <tr>\n",
       "      <th>139</th>\n",
       "      <td>140.0</td>\n",
       "      <td>7.0</td>\n",
       "      <td>29.0</td>\n",
       "      <td>62.43</td>\n",
       "      <td>127.10</td>\n",
       "      <td>1</td>\n",
       "    </tr>\n",
       "    <tr>\n",
       "      <th>140</th>\n",
       "      <td>141.0</td>\n",
       "      <td>7.0</td>\n",
       "      <td>8.0</td>\n",
       "      <td>53.07</td>\n",
       "      <td>127.20</td>\n",
       "      <td>0</td>\n",
       "    </tr>\n",
       "    <tr>\n",
       "      <th>141</th>\n",
       "      <td>142.0</td>\n",
       "      <td>6.0</td>\n",
       "      <td>8.0</td>\n",
       "      <td>47.95</td>\n",
       "      <td>102.86</td>\n",
       "      <td>0</td>\n",
       "    </tr>\n",
       "    <tr>\n",
       "      <th>142</th>\n",
       "      <td>143.0</td>\n",
       "      <td>4.0</td>\n",
       "      <td>25.0</td>\n",
       "      <td>53.01</td>\n",
       "      <td>98.53</td>\n",
       "      <td>1</td>\n",
       "    </tr>\n",
       "  </tbody>\n",
       "</table>\n",
       "<p>143 rows × 6 columns</p>\n",
       "</div>"
      ],
      "text/plain": [
       "        id  address  floor  unit_price_ping  total_area_ping over_hotel_floor\n",
       "0      1.0      1.0   23.0            52.44           100.86                1\n",
       "1      2.0      7.0   14.0            55.38           116.71                0\n",
       "2      3.0      8.0   13.0            52.40           110.33                0\n",
       "3      4.0      3.0   22.0            53.83           124.60                1\n",
       "4      5.0      7.0   23.0            62.95           116.60                1\n",
       "..     ...      ...    ...              ...              ...              ...\n",
       "138  139.0      2.0   12.0            50.57           113.74                0\n",
       "139  140.0      7.0   29.0            62.43           127.10                1\n",
       "140  141.0      7.0    8.0            53.07           127.20                0\n",
       "141  142.0      6.0    8.0            47.95           102.86                0\n",
       "142  143.0      4.0   25.0            53.01            98.53                1\n",
       "\n",
       "[143 rows x 6 columns]"
      ]
     },
     "execution_count": 11,
     "metadata": {},
     "output_type": "execute_result"
    }
   ],
   "source": [
    "df_clean"
   ]
  },
  {
   "cell_type": "code",
   "execution_count": 12,
   "metadata": {},
   "outputs": [],
   "source": [
    "df_clean_scale=df_clean.copy()"
   ]
  },
  {
   "cell_type": "code",
   "execution_count": 13,
   "metadata": {},
   "outputs": [],
   "source": [
    "mask=df_clean_scale['address']==8"
   ]
  },
  {
   "cell_type": "code",
   "execution_count": 14,
   "metadata": {},
   "outputs": [],
   "source": [
    "df_select=df_clean_scale[mask].drop(['address','id'],axis=1)\n",
    "df_final=df_select.astype({'floor': 'int64'})"
   ]
  },
  {
   "cell_type": "code",
   "execution_count": 15,
   "metadata": {},
   "outputs": [
    {
     "data": {
      "text/html": [
       "<div>\n",
       "<style scoped>\n",
       "    .dataframe tbody tr th:only-of-type {\n",
       "        vertical-align: middle;\n",
       "    }\n",
       "\n",
       "    .dataframe tbody tr th {\n",
       "        vertical-align: top;\n",
       "    }\n",
       "\n",
       "    .dataframe thead th {\n",
       "        text-align: right;\n",
       "    }\n",
       "</style>\n",
       "<table border=\"1\" class=\"dataframe\">\n",
       "  <thead>\n",
       "    <tr style=\"text-align: right;\">\n",
       "      <th></th>\n",
       "      <th>floor</th>\n",
       "      <th>unit_price_ping</th>\n",
       "      <th>total_area_ping</th>\n",
       "      <th>over_hotel_floor</th>\n",
       "    </tr>\n",
       "  </thead>\n",
       "  <tbody>\n",
       "    <tr>\n",
       "      <th>2</th>\n",
       "      <td>13</td>\n",
       "      <td>52.40</td>\n",
       "      <td>110.33</td>\n",
       "      <td>0</td>\n",
       "    </tr>\n",
       "    <tr>\n",
       "      <th>7</th>\n",
       "      <td>21</td>\n",
       "      <td>56.24</td>\n",
       "      <td>115.33</td>\n",
       "      <td>1</td>\n",
       "    </tr>\n",
       "    <tr>\n",
       "      <th>9</th>\n",
       "      <td>15</td>\n",
       "      <td>53.73</td>\n",
       "      <td>111.33</td>\n",
       "      <td>0</td>\n",
       "    </tr>\n",
       "    <tr>\n",
       "      <th>20</th>\n",
       "      <td>17</td>\n",
       "      <td>54.52</td>\n",
       "      <td>110.33</td>\n",
       "      <td>1</td>\n",
       "    </tr>\n",
       "    <tr>\n",
       "      <th>23</th>\n",
       "      <td>22</td>\n",
       "      <td>56.11</td>\n",
       "      <td>110.33</td>\n",
       "      <td>1</td>\n",
       "    </tr>\n",
       "    <tr>\n",
       "      <th>30</th>\n",
       "      <td>16</td>\n",
       "      <td>53.92</td>\n",
       "      <td>111.33</td>\n",
       "      <td>1</td>\n",
       "    </tr>\n",
       "    <tr>\n",
       "      <th>31</th>\n",
       "      <td>20</td>\n",
       "      <td>56.35</td>\n",
       "      <td>121.83</td>\n",
       "      <td>1</td>\n",
       "    </tr>\n",
       "    <tr>\n",
       "      <th>34</th>\n",
       "      <td>12</td>\n",
       "      <td>51.98</td>\n",
       "      <td>111.33</td>\n",
       "      <td>0</td>\n",
       "    </tr>\n",
       "    <tr>\n",
       "      <th>81</th>\n",
       "      <td>5</td>\n",
       "      <td>49.27</td>\n",
       "      <td>111.33</td>\n",
       "      <td>0</td>\n",
       "    </tr>\n",
       "    <tr>\n",
       "      <th>84</th>\n",
       "      <td>35</td>\n",
       "      <td>63.45</td>\n",
       "      <td>121.83</td>\n",
       "      <td>1</td>\n",
       "    </tr>\n",
       "    <tr>\n",
       "      <th>90</th>\n",
       "      <td>8</td>\n",
       "      <td>52.01</td>\n",
       "      <td>111.33</td>\n",
       "      <td>0</td>\n",
       "    </tr>\n",
       "    <tr>\n",
       "      <th>91</th>\n",
       "      <td>10</td>\n",
       "      <td>51.59</td>\n",
       "      <td>111.33</td>\n",
       "      <td>0</td>\n",
       "    </tr>\n",
       "    <tr>\n",
       "      <th>97</th>\n",
       "      <td>18</td>\n",
       "      <td>55.96</td>\n",
       "      <td>121.83</td>\n",
       "      <td>1</td>\n",
       "    </tr>\n",
       "    <tr>\n",
       "      <th>105</th>\n",
       "      <td>9</td>\n",
       "      <td>51.92</td>\n",
       "      <td>111.33</td>\n",
       "      <td>0</td>\n",
       "    </tr>\n",
       "    <tr>\n",
       "      <th>106</th>\n",
       "      <td>28</td>\n",
       "      <td>60.65</td>\n",
       "      <td>121.83</td>\n",
       "      <td>1</td>\n",
       "    </tr>\n",
       "    <tr>\n",
       "      <th>123</th>\n",
       "      <td>7</td>\n",
       "      <td>50.40</td>\n",
       "      <td>111.33</td>\n",
       "      <td>0</td>\n",
       "    </tr>\n",
       "    <tr>\n",
       "      <th>129</th>\n",
       "      <td>6</td>\n",
       "      <td>51.26</td>\n",
       "      <td>121.83</td>\n",
       "      <td>0</td>\n",
       "    </tr>\n",
       "  </tbody>\n",
       "</table>\n",
       "</div>"
      ],
      "text/plain": [
       "     floor  unit_price_ping  total_area_ping over_hotel_floor\n",
       "2       13            52.40           110.33                0\n",
       "7       21            56.24           115.33                1\n",
       "9       15            53.73           111.33                0\n",
       "20      17            54.52           110.33                1\n",
       "23      22            56.11           110.33                1\n",
       "30      16            53.92           111.33                1\n",
       "31      20            56.35           121.83                1\n",
       "34      12            51.98           111.33                0\n",
       "81       5            49.27           111.33                0\n",
       "84      35            63.45           121.83                1\n",
       "90       8            52.01           111.33                0\n",
       "91      10            51.59           111.33                0\n",
       "97      18            55.96           121.83                1\n",
       "105      9            51.92           111.33                0\n",
       "106     28            60.65           121.83                1\n",
       "123      7            50.40           111.33                0\n",
       "129      6            51.26           121.83                0"
      ]
     },
     "execution_count": 15,
     "metadata": {},
     "output_type": "execute_result"
    }
   ],
   "source": [
    "df_final"
   ]
  },
  {
   "cell_type": "markdown",
   "metadata": {},
   "source": [
    "### 視覺化分析"
   ]
  },
  {
   "cell_type": "code",
   "execution_count": 16,
   "metadata": {},
   "outputs": [
    {
     "data": {
      "text/plain": [
       "<AxesSubplot:>"
      ]
     },
     "execution_count": 16,
     "metadata": {},
     "output_type": "execute_result"
    },
    {
     "data": {
      "image/png": "[encoded data removed]",
      "text/plain": [
       "<Figure size 432x288 with 2 Axes>"
      ]
     },
     "metadata": {
      "needs_background": "light"
     },
     "output_type": "display_data"
    }
   ],
   "source": [
    "sns.heatmap(df_final.corr(),cmap='YlGnBu',annot=True,)"
   ]
  },
  {
   "cell_type": "code",
   "execution_count": 17,
   "metadata": {},
   "outputs": [],
   "source": [
    "price_dataset = df_final.copy()\n",
    "x = price_dataset.loc[:,['floor','total_area_ping','over_hotel_floor']]\n",
    "y = price_dataset['unit_price_ping']"
   ]
  },
  {
   "cell_type": "markdown",
   "metadata": {},
   "source": [
    "### 預測模型建構"
   ]
  },
  {
   "cell_type": "code",
   "execution_count": 20,
   "metadata": {},
   "outputs": [],
   "source": [
    "X_train, X_test, y_train, y_test = train_test_split(x, y, test_size=0.2, random_state=0)"
   ]
  },
  {
   "cell_type": "code",
   "execution_count": 21,
   "metadata": {},
   "outputs": [],
   "source": [
    "# 訓練模型\n",
    "linearModel = LinearRegression()\n",
    "linearModel.fit(X_train, y_train)\n",
    "y_pred = linearModel.predict(X_test)"
   ]
  },
  {
   "cell_type": "code",
   "execution_count": 22,
   "metadata": {},
   "outputs": [
    {
     "name": "stdout",
     "output_type": "stream",
     "text": [
      "Mean Squred Error: 0.2510634012421174\n",
      "Mean Absolute Error: 0.4877157199197768\n",
      "R2 Score: 0.9900120456239916\n"
     ]
    }
   ],
   "source": [
    "print('Mean Squred Error:',mean_squared_error(y_test, y_pred))\n",
    "print('Mean Absolute Error:', mean_absolute_error(y_test, y_pred))\n",
    "print('R2 Score:', r2_score(y_test, y_pred))"
   ]
  },
  {
   "cell_type": "code",
   "execution_count": 24,
   "metadata": {},
   "outputs": [
    {
     "data": {
      "text/plain": [
       "array([ 0.39876072,  0.12777849, -0.08043066])"
      ]
     },
     "execution_count": 24,
     "metadata": {},
     "output_type": "execute_result"
    }
   ],
   "source": [
    "linearModel.coef_\n"
   ]
  },
  {
   "cell_type": "code",
   "execution_count": 25,
   "metadata": {},
   "outputs": [
    {
     "data": {
      "text/plain": [
       "33.5463269551913"
      ]
     },
     "execution_count": 25,
     "metadata": {},
     "output_type": "execute_result"
    }
   ],
   "source": [
    "linearModel.intercept_"
   ]
  },
  {
   "cell_type": "code",
   "execution_count": 26,
   "metadata": {},
   "outputs": [
    {
     "data": {
      "text/plain": [
       "array([56.57656427, 57.00836371, 49.76570944, 62.98977455])"
      ]
     },
     "execution_count": 26,
     "metadata": {},
     "output_type": "execute_result"
    }
   ],
   "source": [
    "y_pred"
   ]
  },
  {
   "cell_type": "code",
   "execution_count": 27,
   "metadata": {},
   "outputs": [
    {
     "data": {
      "text/html": [
       "<div>\n",
       "<style scoped>\n",
       "    .dataframe tbody tr th:only-of-type {\n",
       "        vertical-align: middle;\n",
       "    }\n",
       "\n",
       "    .dataframe tbody tr th {\n",
       "        vertical-align: top;\n",
       "    }\n",
       "\n",
       "    .dataframe thead th {\n",
       "        text-align: right;\n",
       "    }\n",
       "</style>\n",
       "<table border=\"1\" class=\"dataframe\">\n",
       "  <thead>\n",
       "    <tr style=\"text-align: right;\">\n",
       "      <th></th>\n",
       "      <th>Actual</th>\n",
       "      <th>Predicted</th>\n",
       "    </tr>\n",
       "  </thead>\n",
       "  <tbody>\n",
       "    <tr>\n",
       "      <th>7</th>\n",
       "      <td>56.24</td>\n",
       "      <td>56.576564</td>\n",
       "    </tr>\n",
       "    <tr>\n",
       "      <th>31</th>\n",
       "      <td>56.35</td>\n",
       "      <td>57.008364</td>\n",
       "    </tr>\n",
       "    <tr>\n",
       "      <th>81</th>\n",
       "      <td>49.27</td>\n",
       "      <td>49.765709</td>\n",
       "    </tr>\n",
       "    <tr>\n",
       "      <th>84</th>\n",
       "      <td>63.45</td>\n",
       "      <td>62.989775</td>\n",
       "    </tr>\n",
       "  </tbody>\n",
       "</table>\n",
       "</div>"
      ],
      "text/plain": [
       "    Actual  Predicted\n",
       "7    56.24  56.576564\n",
       "31   56.35  57.008364\n",
       "81   49.27  49.765709\n",
       "84   63.45  62.989775"
      ]
     },
     "execution_count": 27,
     "metadata": {},
     "output_type": "execute_result"
    }
   ],
   "source": [
    "df_prediction = pd.DataFrame({'Actual': y_test, 'Predicted': y_pred.flatten()})\n",
    "df_prediction_final = df_prediction #顯示實際值和預測值\n",
    "df_prediction_final"
   ]
  },
  {
   "cell_type": "code",
   "execution_count": 28,
   "metadata": {},
   "outputs": [
    {
     "data": {
      "image/png": "[encoded data removed]",
      "text/plain": [
       "<Figure size 720x576 with 1 Axes>"
      ]
     },
     "metadata": {
      "needs_background": "light"
     },
     "output_type": "display_data"
    }
   ],
   "source": [
    "df_prediction_final.plot(kind='bar',figsize=(10,8))\n",
    "plt.grid(which='major', linestyle='-', linewidth='0.5', color='green')\n",
    "plt.grid(which='minor', linestyle=':', linewidth='0.5', color='black')\n",
    "plt.show()"
   ]
  },
  {
   "cell_type": "code",
   "execution_count": 29,
   "metadata": {},
   "outputs": [
    {
     "name": "stdout",
     "output_type": "stream",
     "text": [
      "Mean Absolute Error: 0.4877157199197768\n",
      "Mean Squared Error: 0.2510634012421174\n",
      "Root Mean Squared Error: 0.5010622728185763\n"
     ]
    }
   ],
   "source": [
    "print('Mean Absolute Error:', metrics.mean_absolute_error(y_test, y_pred))  \n",
    "print('Mean Squared Error:', metrics.mean_squared_error(y_test, y_pred))  \n",
    "print('Root Mean Squared Error:', np.sqrt(metrics.mean_squared_error(y_test, y_pred)))"
   ]
  },
  {
   "cell_type": "code",
   "execution_count": 40,
   "metadata": {},
   "outputs": [
    {
     "name": "stdout",
     "output_type": "stream",
     "text": [
      "模型預測分數評估(R_square) 0.9900120456239916\n"
     ]
    }
   ],
   "source": [
    "print('模型預測分數評估(R_square)',linearModel.score(X_test, y_test))"
   ]
  },
  {
   "cell_type": "code",
   "execution_count": 31,
   "metadata": {},
   "outputs": [
    {
     "data": {
      "text/html": [
       "<div>\n",
       "<style scoped>\n",
       "    .dataframe tbody tr th:only-of-type {\n",
       "        vertical-align: middle;\n",
       "    }\n",
       "\n",
       "    .dataframe tbody tr th {\n",
       "        vertical-align: top;\n",
       "    }\n",
       "\n",
       "    .dataframe thead th {\n",
       "        text-align: right;\n",
       "    }\n",
       "</style>\n",
       "<table border=\"1\" class=\"dataframe\">\n",
       "  <thead>\n",
       "    <tr style=\"text-align: right;\">\n",
       "      <th></th>\n",
       "      <th>floor</th>\n",
       "      <th>total_area_ping</th>\n",
       "      <th>over_hotel_floor</th>\n",
       "    </tr>\n",
       "  </thead>\n",
       "  <tbody>\n",
       "    <tr>\n",
       "      <th>7</th>\n",
       "      <td>21</td>\n",
       "      <td>115.33</td>\n",
       "      <td>1</td>\n",
       "    </tr>\n",
       "    <tr>\n",
       "      <th>31</th>\n",
       "      <td>20</td>\n",
       "      <td>121.83</td>\n",
       "      <td>1</td>\n",
       "    </tr>\n",
       "    <tr>\n",
       "      <th>81</th>\n",
       "      <td>5</td>\n",
       "      <td>111.33</td>\n",
       "      <td>0</td>\n",
       "    </tr>\n",
       "    <tr>\n",
       "      <th>84</th>\n",
       "      <td>35</td>\n",
       "      <td>121.83</td>\n",
       "      <td>1</td>\n",
       "    </tr>\n",
       "  </tbody>\n",
       "</table>\n",
       "</div>"
      ],
      "text/plain": [
       "    floor  total_area_ping over_hotel_floor\n",
       "7      21           115.33                1\n",
       "31     20           121.83                1\n",
       "81      5           111.33                0\n",
       "84     35           121.83                1"
      ]
     },
     "execution_count": 31,
     "metadata": {},
     "output_type": "execute_result"
    }
   ],
   "source": [
    "X_test"
   ]
  },
  {
   "cell_type": "markdown",
   "metadata": {},
   "source": [
    "### 輸入預計預測參數"
   ]
  },
  {
   "cell_type": "code",
   "execution_count": 35,
   "metadata": {},
   "outputs": [
    {
     "data": {
      "text/html": [
       "<div>\n",
       "<style scoped>\n",
       "    .dataframe tbody tr th:only-of-type {\n",
       "        vertical-align: middle;\n",
       "    }\n",
       "\n",
       "    .dataframe tbody tr th {\n",
       "        vertical-align: top;\n",
       "    }\n",
       "\n",
       "    .dataframe thead th {\n",
       "        text-align: right;\n",
       "    }\n",
       "</style>\n",
       "<table border=\"1\" class=\"dataframe\">\n",
       "  <thead>\n",
       "    <tr style=\"text-align: right;\">\n",
       "      <th></th>\n",
       "      <th>floor</th>\n",
       "      <th>total_area_ping</th>\n",
       "      <th>over_hotel_floor</th>\n",
       "    </tr>\n",
       "  </thead>\n",
       "  <tbody>\n",
       "    <tr>\n",
       "      <th>0</th>\n",
       "      <td>1</td>\n",
       "      <td>120</td>\n",
       "      <td>1</td>\n",
       "    </tr>\n",
       "  </tbody>\n",
       "</table>\n",
       "</div>"
      ],
      "text/plain": [
       "   floor  total_area_ping  over_hotel_floor\n",
       "0      1              120                 1"
      ]
     },
     "execution_count": 35,
     "metadata": {},
     "output_type": "execute_result"
    }
   ],
   "source": [
    "new_data = {'floor': [1], 'total_area_ping': [120], 'over_hotel_floor':[1]}\n",
    "new_df = pd.DataFrame(data=new_data)\n",
    "new_df"
   ]
  },
  {
   "cell_type": "code",
   "execution_count": 36,
   "metadata": {},
   "outputs": [
    {
     "data": {
      "text/plain": [
       "array([49.19807536])"
      ]
     },
     "execution_count": 36,
     "metadata": {},
     "output_type": "execute_result"
    }
   ],
   "source": [
    "new_pred = linearModel.predict(new_df)\n",
    "new_pred"
   ]
  },
  {
   "cell_type": "markdown",
   "metadata": {},
   "source": [
    "### 輸出預測結果"
   ]
  },
  {
   "cell_type": "code",
   "execution_count": 38,
   "metadata": {},
   "outputs": [
    {
     "name": "stdout",
     "output_type": "stream",
     "text": [
      "參數預測單坪價格: [49.19807536] 元\n"
     ]
    }
   ],
   "source": [
    "print('參數預測單坪價格:',new_pred,'元')  "
   ]
  }
 ],
 "metadata": {
  "kernelspec": {
   "display_name": "Python 3.9.7 ('base')",
   "language": "python",
   "name": "python3"
  },
  "language_info": {
   "codemirror_mode": {
    "name": "ipython",
    "version": 3
   },
   "file_extension": ".py",
   "mimetype": "text/x-python",
   "name": "python",
   "nbconvert_exporter": "python",
   "pygments_lexer": "ipython3",
   "version": "3.9.7"
  },
  "orig_nbformat": 4,
  "vscode": {
   "interpreter": {
    "hash": "a077222d77dfe082b8f1dd562ad70e458ac2ab76993a0b248ab0476e32e9e8dd"
   }
  }
 },
 "nbformat": 4,
 "nbformat_minor": 2
}
